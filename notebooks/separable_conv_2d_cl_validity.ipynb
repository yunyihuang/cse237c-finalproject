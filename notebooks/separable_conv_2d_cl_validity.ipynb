{
 "cells": [
  {
   "cell_type": "code",
   "execution_count": 30,
   "id": "c9bfc2c0",
   "metadata": {},
   "outputs": [],
   "source": [
    "in_height, in_width = 3,3\n",
    "filt_height, filt_width = 2,2\n",
    "n_chan = 3\n",
    "out_height = (in_height-filt_height+1)\n",
    "out_width = (in_width-filt_width+1)"
   ]
  },
  {
   "cell_type": "code",
   "execution_count": 31,
   "id": "dc4c8775",
   "metadata": {},
   "outputs": [],
   "source": [
    "data = [1,2,3,4,5,6,7,8,9,\n",
    "        9,8,7,6,5,4,3,2,1,\n",
    "        2,4,6,8,10,12,14,16,18]\n",
    "\n",
    "depthwise_res = [0] * (out_height * out_width * n_chan)\n",
    "\n",
    "depthwise_weights = [1,0,0,1] * n_chan\n",
    "\n",
    "depthwise_biases = [0] * n_chan"
   ]
  },
  {
   "cell_type": "code",
   "execution_count": 32,
   "id": "4968f9f3",
   "metadata": {},
   "outputs": [
    {
     "data": {
      "text/plain": [
       "[6, 8, 12, 14, 14, 12, 8, 6, 12, 16, 24, 28]"
      ]
     },
     "execution_count": 32,
     "metadata": {},
     "output_type": "execute_result"
    }
   ],
   "source": [
    "def depthwise_conv(data, depthwise_res, depthwise_weights, depthwise_biases):\n",
    "    for c in range(n_chan):\n",
    "        channel_start = c * in_height * in_width\n",
    "        kernel_start = c * filt_height * filt_width\n",
    "\n",
    "        for h in range(out_height):\n",
    "            for w in range(out_width):\n",
    "                _sum = depthwise_biases[c]\n",
    "                for i in range(filt_height):\n",
    "                    for j in range(filt_width):\n",
    "                        data_idx = channel_start + (h + i) * in_width + (w + j)\n",
    "                        kernel_idx = kernel_start + i * filt_width + j\n",
    "                        _sum += data[data_idx] * depthwise_weights[kernel_idx]\n",
    "\n",
    "                res_idx = c * (out_height * out_width) + h * out_width + w\n",
    "                depthwise_res[res_idx] = _sum\n",
    "\n",
    "    return depthwise_res\n",
    "\n",
    "# Redefine variables and rerun the function\\\n",
    "depthwise_res = depthwise_conv(data, depthwise_res, depthwise_weights, depthwise_biases)\n",
    "depthwise_res"
   ]
  },
  {
   "cell_type": "code",
   "execution_count": 33,
   "id": "4abcb10b",
   "metadata": {},
   "outputs": [],
   "source": [
    "n_filt = 2\n",
    "res = [0] * (out_height * out_width * n_filt)\n",
    "pointwise_weights = [1,0,1,0,1,1] * n_chan\n",
    "pointwise_biases = [0] * n_filt"
   ]
  },
  {
   "cell_type": "code",
   "execution_count": 34,
   "id": "06a21f5f",
   "metadata": {},
   "outputs": [
    {
     "data": {
      "text/plain": [
       "[18, 24, 36, 42, 26, 28, 32, 34]"
      ]
     },
     "execution_count": 34,
     "metadata": {},
     "output_type": "execute_result"
    }
   ],
   "source": [
    "def pointwise_conv_2d_latency_cl(depthwise_res, res, pointwise_weights, pointwise_biases):\n",
    "    for h in range(out_height):\n",
    "        for w in range(out_width):\n",
    "            for f in range(n_filt):\n",
    "                _sum = pointwise_biases[f]  \n",
    "                for c in range(n_chan):\n",
    "                    idx = c * (out_height * out_width) + h * out_width + w\n",
    "                    weight_idx = f * n_chan + c  \n",
    "                    _sum += depthwise_res[idx] * pointwise_weights[weight_idx]\n",
    "                \n",
    "                res[f * (out_height * out_width) + h * out_width + w] = _sum\n",
    "    return res\n",
    "\n",
    "res = pointwise_conv_2d_latency_cl(depthwise_res, res, pointwise_weights, pointwise_biases)\n",
    "res"
   ]
  },
  {
   "cell_type": "code",
   "execution_count": null,
   "id": "62231a37",
   "metadata": {},
   "outputs": [],
   "source": []
  }
 ],
 "metadata": {
  "kernelspec": {
   "display_name": "Python 3 (ipykernel)",
   "language": "python",
   "name": "python3"
  },
  "language_info": {
   "codemirror_mode": {
    "name": "ipython",
    "version": 3
   },
   "file_extension": ".py",
   "mimetype": "text/x-python",
   "name": "python",
   "nbconvert_exporter": "python",
   "pygments_lexer": "ipython3",
   "version": "3.9.7"
  }
 },
 "nbformat": 4,
 "nbformat_minor": 5
}
