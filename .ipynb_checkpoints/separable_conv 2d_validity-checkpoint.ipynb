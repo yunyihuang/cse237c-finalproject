{
 "cells": [
  {
   "cell_type": "code",
   "execution_count": 11,
   "id": "c5181657",
   "metadata": {},
   "outputs": [],
   "source": [
    "in_height, in_width = 3,3\n",
    "filt_height, filt_width = 2,2\n",
    "n_chan = 3\n",
    "out_height = (in_height-filt_height+1)\n",
    "out_width = (in_width-filt_width+1)"
   ]
  },
  {
   "cell_type": "code",
   "execution_count": 12,
   "id": "f8aad089",
   "metadata": {},
   "outputs": [],
   "source": [
    "data = [1,2,3,4,5,6,7,8,9,\n",
    "        9,8,7,6,5,4,3,2,1,\n",
    "        2,4,6,8,10,12,14,16,18]\n",
    "\n",
    "depthwise_res = [0] * (out_height * out_width * n_chan)\n",
    "\n",
    "depthwise_weights = [1,0,0,1] * n_chan\n",
    "\n",
    "depthwise_biases = [0] * n_chan"
   ]
  },
  {
   "cell_type": "code",
   "execution_count": 13,
   "id": "3f82a7ba",
   "metadata": {
    "scrolled": true
   },
   "outputs": [
    {
     "data": {
      "text/plain": [
       "([1,\n",
       "  2,\n",
       "  3,\n",
       "  4,\n",
       "  5,\n",
       "  6,\n",
       "  7,\n",
       "  8,\n",
       "  9,\n",
       "  9,\n",
       "  8,\n",
       "  7,\n",
       "  6,\n",
       "  5,\n",
       "  4,\n",
       "  3,\n",
       "  2,\n",
       "  1,\n",
       "  2,\n",
       "  4,\n",
       "  6,\n",
       "  8,\n",
       "  10,\n",
       "  12,\n",
       "  14,\n",
       "  16,\n",
       "  18],\n",
       " [0, 0, 0, 0, 0, 0, 0, 0, 0, 0, 0, 0],\n",
       " [1, 0, 0, 1, 1, 0, 0, 1, 1, 0, 0, 1],\n",
       " [0, 0, 0])"
      ]
     },
     "execution_count": 13,
     "metadata": {},
     "output_type": "execute_result"
    }
   ],
   "source": [
    "data, depthwise_res, depthwise_weights, depthwise_biases"
   ]
  },
  {
   "cell_type": "code",
   "execution_count": 14,
   "id": "77f56e5a",
   "metadata": {},
   "outputs": [
    {
     "data": {
      "text/plain": [
       "[6, 8, 12, 14, 14, 12, 8, 6, 12, 16, 24, 28]"
      ]
     },
     "execution_count": 14,
     "metadata": {},
     "output_type": "execute_result"
    }
   ],
   "source": [
    "def depthwise_conv(data, depthwise_res, depthwise_weights, depthwise_biases):\n",
    "    for c in range(n_chan):\n",
    "        channel_start = c * in_height * in_width\n",
    "        kernel_start = c * filt_height * filt_width\n",
    "\n",
    "        for h in range(out_height):\n",
    "            for w in range(out_width):\n",
    "                _sum = depthwise_biases[c]\n",
    "                for i in range(filt_height):\n",
    "                    for j in range(filt_width):\n",
    "                        data_idx = channel_start + (h + i) * in_width + (w + j)\n",
    "                        kernel_idx = kernel_start + i * filt_width + j\n",
    "                        _sum += data[data_idx] * depthwise_weights[kernel_idx]\n",
    "\n",
    "                res_idx = c * (out_height * out_width) + h * out_width + w\n",
    "                depthwise_res[res_idx] = _sum\n",
    "\n",
    "    return depthwise_res\n",
    "\n",
    "# Redefine variables and rerun the function\n",
    "# depthwise_res = [0] * (out_height * out_width * n_chan)\n",
    "depthwise_res = depthwise_conv(data, depthwise_res, depthwise_weights, depthwise_biases)\n",
    "depthwise_res"
   ]
  },
  {
   "cell_type": "code",
   "execution_count": null,
   "id": "85e70242",
   "metadata": {},
   "outputs": [],
   "source": []
  }
 ],
 "metadata": {
  "kernelspec": {
   "display_name": "Python 3 (ipykernel)",
   "language": "python",
   "name": "python3"
  },
  "language_info": {
   "codemirror_mode": {
    "name": "ipython",
    "version": 3
   },
   "file_extension": ".py",
   "mimetype": "text/x-python",
   "name": "python",
   "nbconvert_exporter": "python",
   "pygments_lexer": "ipython3",
   "version": "3.9.7"
  }
 },
 "nbformat": 4,
 "nbformat_minor": 5
}
