{
 "cells": [
  {
   "cell_type": "code",
   "execution_count": 77,
   "id": "e0a50bb0",
   "metadata": {},
   "outputs": [],
   "source": [
    "in_height, in_width = 3,3\n",
    "filt_height, filt_width = 2,2\n",
    "n_chan = 2\n",
    "out_height = (in_height-filt_height+1)\n",
    "out_width = (in_width-filt_width+1)\n",
    "n_filt = 1"
   ]
  },
  {
   "cell_type": "code",
   "execution_count": 82,
   "id": "09dafbe6",
   "metadata": {},
   "outputs": [],
   "source": [
    "def depthwise_cov(data, depthwise_res, depthwise_weights, depthwise_biases):\n",
    "    for h in range(out_height):\n",
    "        for w in range(out_width):\n",
    "            for c in range(n_chan):\n",
    "                _sum = depthwise_biases[c]\n",
    "                \n",
    "                for i in range(filt_height):\n",
    "                    for j in range(filt_width):\n",
    "#                         data_idx = (h+i)*in_width*n_chan + (w+j) * n_chan + c\n",
    "#                         weight_idx = i * filt_width * n_chan + j * n_chan + c;\n",
    "                        data_idx = ((h+i)*in_width + (w+j)) * n_chan + c\n",
    "                        weight_idx = (i * filt_width + j) * n_chan + c\n",
    "#                         print(data[data_idx], depthwise_weights[weight_idx])\n",
    "                        _sum += data[data_idx] * depthwise_weights[weight_idx]\n",
    "#                 print(_sum)\n",
    "                res_idx = (h * out_width + w) * n_chan + c\n",
    "                print(res_idx)\n",
    "                depthwise_res[res_idx] = _sum\n",
    "    return depthwise_res"
   ]
  },
  {
   "cell_type": "code",
   "execution_count": 83,
   "id": "ad40eb50",
   "metadata": {},
   "outputs": [],
   "source": [
    "data = [\n",
    "    1,2,3,4,5,6,7,8,9,\n",
    "    9,8,7,6,5,4,3,2,1]\n",
    "#     2,4,6,8,10,12,14,16,18\n",
    "# ]\n",
    "\n",
    "depthwise_res = [0] * (out_height * out_width * n_chan)\n",
    "\n",
    "depthwise_weights = [1,0,0,1] * n_chan\n",
    "\n",
    "depthwise_biases = [0] * n_chan"
   ]
  },
  {
   "cell_type": "code",
   "execution_count": 84,
   "id": "368c5b2e",
   "metadata": {},
   "outputs": [
    {
     "name": "stdout",
     "output_type": "stream",
     "text": [
      "0\n",
      "1\n",
      "2\n",
      "3\n",
      "4\n",
      "5\n",
      "6\n",
      "7\n"
     ]
    },
    {
     "data": {
      "text/plain": [
       "[8, 13, 12, 13, 13, 12, 13, 8]"
      ]
     },
     "execution_count": 84,
     "metadata": {},
     "output_type": "execute_result"
    }
   ],
   "source": [
    "depthwise_cov(data, depthwise_res, depthwise_weights, depthwise_biases)"
   ]
  },
  {
   "cell_type": "code",
   "execution_count": null,
   "id": "af776edd",
   "metadata": {},
   "outputs": [],
   "source": []
  }
 ],
 "metadata": {
  "kernelspec": {
   "display_name": "Python 3 (ipykernel)",
   "language": "python",
   "name": "python3"
  },
  "language_info": {
   "codemirror_mode": {
    "name": "ipython",
    "version": 3
   },
   "file_extension": ".py",
   "mimetype": "text/x-python",
   "name": "python",
   "nbconvert_exporter": "python",
   "pygments_lexer": "ipython3",
   "version": "3.9.7"
  }
 },
 "nbformat": 4,
 "nbformat_minor": 5
}
